{
 "cells": [
  {
   "cell_type": "code",
   "execution_count": 58,
   "metadata": {},
   "outputs": [
    {
     "name": "stdout",
     "output_type": "stream",
     "text": [
      "Loading environment variables...\n"
     ]
    },
    {
     "data": {
      "text/plain": [
       "True"
      ]
     },
     "execution_count": 58,
     "metadata": {},
     "output_type": "execute_result"
    }
   ],
   "source": [
    "import os\n",
    "import PyPDF2\n",
    "import pandas as pd\n",
    "import re\n",
    "import openai\n",
    "from pinecone import Pinecone, ServerlessSpec\n",
    "import time\n",
    "from dotenv import load_dotenv\n",
    "\n",
    "# Load environment variables\n",
    "print(\"Loading environment variables...\")\n",
    "load_dotenv()"
   ]
  },
  {
   "cell_type": "code",
   "execution_count": 27,
   "metadata": {},
   "outputs": [],
   "source": [
    "# Function to extract text from PDF\n",
    "def extract_text_from_pdf(pdf_path):\n",
    "    print(f\"Extracting text from PDF: {pdf_path}\")\n",
    "    with open(pdf_path, 'rb') as file:\n",
    "        reader = PyPDF2.PdfReader(file)\n",
    "        text = ''\n",
    "        for page in reader.pages:\n",
    "            text += page.extract_text() or ''  # Handle potential None values\n",
    "    print(\"Text extraction complete.\")\n",
    "    return text"
   ]
  },
  {
   "cell_type": "code",
   "execution_count": 28,
   "metadata": {},
   "outputs": [],
   "source": [
    "# Function to preprocess P&L text into structured format\n",
    "def preprocess_pnl_text(text):\n",
    "    print(\"Preprocessing P&L text...\")\n",
    "    lines = text.split(\"\\n\")\n",
    "    data = []\n",
    "    pattern = re.compile(r\"([\\w\\s]+)\\s+(\\d{1,3}(?:,\\d{3})*\\.\\d{2})\")  # Extract financial key-value pairs\n",
    "    \n",
    "    for line in lines:\n",
    "        match = pattern.match(line.strip())\n",
    "        if match:\n",
    "            key, value = match.groups()\n",
    "            data.append((key.strip(), float(value.replace(',', ''))))\n",
    "    \n",
    "    print(\"Preprocessing complete.\")\n",
    "    df = pd.DataFrame(data, columns=[\"Metric\", \"Value\"])\n",
    "    return df"
   ]
  },
  {
   "cell_type": "code",
   "execution_count": 29,
   "metadata": {},
   "outputs": [
    {
     "name": "stdout",
     "output_type": "stream",
     "text": [
      "Fetching API keys from environment variables...\n",
      "API keys loaded successfully.\n"
     ]
    }
   ],
   "source": [
    "# Load API keys securely from environment variables\n",
    "print(\"Fetching API keys from environment variables...\")\n",
    "openai_api_key = os.getenv(\"OPENAI_API_KEY\")\n",
    "pinecone_api_key = os.getenv(\"PINECONE_API_KEY\")\n",
    "\n",
    "if not openai_api_key or not pinecone_api_key:\n",
    "    raise ValueError(\"API keys not found. Please set them as environment variables.\")\n",
    "print(\"API keys loaded successfully.\")"
   ]
  },
  {
   "cell_type": "code",
   "execution_count": 30,
   "metadata": {},
   "outputs": [],
   "source": [
    "# Set OpenAI API key\n",
    "openai.api_key = openai_api_key"
   ]
  },
  {
   "cell_type": "code",
   "execution_count": 31,
   "metadata": {},
   "outputs": [
    {
     "name": "stdout",
     "output_type": "stream",
     "text": [
      "Initializing Pinecone client...\n",
      "Pinecone client initialized.\n"
     ]
    }
   ],
   "source": [
    "# Initialize Pinecone client\n",
    "print(\"Initializing Pinecone client...\")\n",
    "pc = Pinecone(api_key=pinecone_api_key)\n",
    "print(\"Pinecone client initialized.\")"
   ]
  },
  {
   "cell_type": "code",
   "execution_count": 59,
   "metadata": {},
   "outputs": [],
   "source": [
    "# Load embedding model\n",
    "embedding_model = SentenceTransformer('all-MiniLM-L6-v2')"
   ]
  },
  {
   "cell_type": "code",
   "execution_count": 60,
   "metadata": {},
   "outputs": [],
   "source": [
    "# Create Pinecone index with correct configuration\n",
    "index_name = \"financial-pnl-index\""
   ]
  },
  {
   "cell_type": "code",
   "execution_count": 61,
   "metadata": {},
   "outputs": [
    {
     "name": "stdout",
     "output_type": "stream",
     "text": [
      "Checking for existing Pinecone index...\n",
      "Index 'financial-pnl-index' already exists.\n"
     ]
    }
   ],
   "source": [
    "# Check if index exists, if not, create one\n",
    "print(\"Checking for existing Pinecone index...\")\n",
    "existing_indexes = pc.list_indexes().names()\n",
    "if index_name not in existing_indexes:\n",
    "    print(f\"Index '{index_name}' not found. Creating a new one...\")\n",
    "    pc.create_index(\n",
    "        name=index_name,\n",
    "        dimension=384,  # dimension to match OpenAI embedding model\n",
    "        metric=\"cosine\",\n",
    "        spec=ServerlessSpec(\n",
    "            cloud=\"aws\",\n",
    "            region=\"us-east-1\"\n",
    "        )\n",
    "    )\n",
    "    print(\"Index created. Waiting for initialization...\")\n",
    "    time.sleep(60)  # Allow time for index creation\n",
    "else:\n",
    "    print(f\"Index '{index_name}' already exists.\")"
   ]
  },
  {
   "cell_type": "code",
   "execution_count": 62,
   "metadata": {},
   "outputs": [
    {
     "name": "stdout",
     "output_type": "stream",
     "text": [
      "Connecting to Pinecone index 'financial-pnl-index'...\n",
      "Connected to Pinecone index.\n"
     ]
    }
   ],
   "source": [
    "# Connect to the Pinecone index\n",
    "print(f\"Connecting to Pinecone index '{index_name}'...\")\n",
    "index = pc.Index(index_name)\n",
    "print(\"Connected to Pinecone index.\")"
   ]
  },
  {
   "cell_type": "code",
   "execution_count": 63,
   "metadata": {},
   "outputs": [],
   "source": [
    "def embed_and_store_pnl_data(pnl_df):\n",
    "    \"\"\"Generate embeddings and store financial data in Pinecone.\"\"\"\n",
    "    print(\"Embedding and storing P&L data in Pinecone...\")\n",
    "    to_upsert = []\n",
    "    for _, row in pnl_df.iterrows():\n",
    "        text = f\"{row['Metric']}: {row['Value']}\"\n",
    "        embedding = embedding_model.encode(text).tolist()\n",
    "        to_upsert.append((str(row['Metric']), embedding, {\"text\": text}))\n",
    "    \n",
    "    if to_upsert:\n",
    "        index.upsert(vectors=to_upsert)\n",
    "        print(f\"Stored {len(to_upsert)} entries in Pinecone.\")"
   ]
  },
  {
   "cell_type": "code",
   "execution_count": 64,
   "metadata": {},
   "outputs": [],
   "source": [
    "def query_pnl(question):\n",
    "    \"\"\"Query P&L data using RAG model.\"\"\"\n",
    "    print(f\"Processing query: {question}\")\n",
    "    query_embedding = embedding_model.encode(question).tolist()\n",
    "    results = index.query(vector=query_embedding, top_k=3, include_metadata=True)\n",
    "    print(\"Query embedding generated. Searching in Pinecone...\")\n",
    "    \n",
    "    if results and results.get(\"matches\"):\n",
    "        context = \"\\n\".join([match[\"metadata\"][\"text\"] for match in results[\"matches\"]])\n",
    "    else:\n",
    "        context = \"No relevant data found.\"\n",
    "\n",
    "    prompt = f\"Context:\\n{context}\\n\\nQuestion:\\n{question}\\nAnswer:\"\n",
    "    \n",
    "    # Using new API call\n",
    "    response = openai.ChatCompletion.create(\n",
    "        model=\"gpt-4\",\n",
    "        messages=[\n",
    "            {\"role\": \"system\", \"content\": \"You are a financial assistant.\"},\n",
    "            {\"role\": \"user\", \"content\": prompt},\n",
    "        ],\n",
    "        max_tokens=100\n",
    "    )\n",
    "    \n",
    "    return response.choices[0].message['content'].strip()"
   ]
  },
  {
   "cell_type": "code",
   "execution_count": 38,
   "metadata": {},
   "outputs": [
    {
     "name": "stdout",
     "output_type": "stream",
     "text": [
      "Starting PDF processing...\n",
      "Extracting text from PDF: Sample Financial Statement.pdf\n",
      "Text extraction complete.\n",
      "Starting text preprocessing...\n",
      "Preprocessing P&L text...\n",
      "Preprocessing complete.\n",
      "Processed Data:\n",
      "                                                Metric  Value\n",
      "0                                   Lease liabilities   2.19\n",
      "1                         Other financial liabilities   2.12\n",
      "2                                   Lease liabilities   2.19\n",
      "3                         Other financial liabilities   2.12\n",
      "4                           Other current liabilities   2.13\n",
      "5                                          Provisions   2.14\n",
      "6                             Revenue from operations   2.16\n",
      "7                           Employee benefit expenses   2.18\n",
      "8                Cost of software packages and others   2.18\n",
      "9                                      Other expenses   2.18\n",
      "10                                        Current tax   2.15\n",
      "11                                       Deferred tax   2.15\n",
      "12                                 Income tax expense   2.15\n",
      "13                                      Refer to Note   2.10\n",
      "14                                   share comprising   1.44\n",
      "15  Disclosure of revenue by geographic locations ...   2.16\n",
      "16                            Revenue from operations   2.16\n",
      "17                                        Current tax   2.15\n",
      "18                                       Deferred tax   2.15\n"
     ]
    }
   ],
   "source": [
    "# Example usage\n",
    "pdf_path = \"Sample Financial Statement.pdf\"\n",
    "print(\"Starting PDF processing...\")\n",
    "text = extract_text_from_pdf(pdf_path)\n",
    "\n",
    "print(\"Starting text preprocessing...\")\n",
    "pnl_df = preprocess_pnl_text(text)\n",
    "print(\"Processed Data:\\n\", pnl_df)"
   ]
  },
  {
   "cell_type": "code",
   "execution_count": 65,
   "metadata": {},
   "outputs": [
    {
     "name": "stdout",
     "output_type": "stream",
     "text": [
      "Storing preprocessed data in Pinecone...\n",
      "Embedding and storing P&L data in Pinecone...\n",
      "Stored 19 entries in Pinecone.\n"
     ]
    }
   ],
   "source": [
    "# Store data in Pinecone\n",
    "print(\"Storing preprocessed data in Pinecone...\")\n",
    "embed_and_store_pnl_data(pnl_df)"
   ]
  },
  {
   "cell_type": "code",
   "execution_count": null,
   "metadata": {},
   "outputs": [],
   "source": [
    "# Example financial query\n",
    "query = \"What is the gross profit for Q3 2024?\"\n",
    "print(\"Querying P&L data...\")\n",
    "answer = query_pnl(query)\n",
    "print(\"Answer:\", answer)"
   ]
  }
 ],
 "metadata": {
  "kernelspec": {
   "display_name": "Python 3",
   "language": "python",
   "name": "python3"
  },
  "language_info": {
   "codemirror_mode": {
    "name": "ipython",
    "version": 3
   },
   "file_extension": ".py",
   "mimetype": "text/x-python",
   "name": "python",
   "nbconvert_exporter": "python",
   "pygments_lexer": "ipython3",
   "version": "3.10.11"
  }
 },
 "nbformat": 4,
 "nbformat_minor": 2
}
